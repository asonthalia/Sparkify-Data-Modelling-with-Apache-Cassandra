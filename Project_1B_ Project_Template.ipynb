{
 "cells": [
  {
   "cell_type": "markdown",
   "metadata": {
    "editable": true
   },
   "source": [
    "# Part I. ETL Pipeline for Pre-Processing the Files"
   ]
  },
  {
   "cell_type": "markdown",
   "metadata": {
    "editable": true
   },
   "source": [
    "## PLEASE RUN THE FOLLOWING CODE FOR PRE-PROCESSING THE FILES"
   ]
  },
  {
   "cell_type": "markdown",
   "metadata": {
    "editable": true
   },
   "source": [
    "#### Import Python packages "
   ]
  },
  {
   "cell_type": "code",
   "execution_count": 93,
   "metadata": {
    "editable": true
   },
   "outputs": [],
   "source": [
    "# Import Python packages \n",
    "import pandas as pd\n",
    "import cassandra\n",
    "import re\n",
    "import os\n",
    "import glob\n",
    "import numpy as np\n",
    "import json\n",
    "import csv"
   ]
  },
  {
   "cell_type": "markdown",
   "metadata": {
    "editable": true
   },
   "source": [
    "#### Creating list of filepaths to process original event csv data files"
   ]
  },
  {
   "cell_type": "code",
   "execution_count": 94,
   "metadata": {
    "editable": true
   },
   "outputs": [
    {
     "name": "stdout",
     "output_type": "stream",
     "text": [
      "/home/workspace\n"
     ]
    }
   ],
   "source": [
    "print(os.getcwd())\n",
    "filepath = os.getcwd() + '/event_data'\n",
    "\n",
    "for root, dirs, files in os.walk(filepath):\n",
    "    file_path_list = glob.glob(os.path.join(root,'*'))"
   ]
  },
  {
   "cell_type": "markdown",
   "metadata": {
    "editable": true
   },
   "source": [
    "#### Processing the files to create the data file csv that will be used for Apache Casssandra tables"
   ]
  },
  {
   "cell_type": "code",
   "execution_count": 95,
   "metadata": {
    "editable": true
   },
   "outputs": [],
   "source": [
    "full_data_rows_list = [] \n",
    "    \n",
    "for f in file_path_list:\n",
    "\n",
    "    with open(f, 'r', encoding = 'utf8', newline='') as csvfile: \n",
    "        csvreader = csv.reader(csvfile) \n",
    "        next(csvreader)\n",
    "        \n",
    "        for line in csvreader:\n",
    "            full_data_rows_list.append(line) \n",
    "            \n",
    "csv.register_dialect('myDialect', quoting=csv.QUOTE_ALL, skipinitialspace=True)\n",
    "\n",
    "with open('event_datafile_new.csv', 'w', encoding = 'utf8', newline='') as f:\n",
    "    writer = csv.writer(f, dialect='myDialect')\n",
    "    writer.writerow(['artist','firstName','gender','itemInSession','lastName','length',\\\n",
    "                'level','location','sessionId','song','userId'])\n",
    "    for row in full_data_rows_list:\n",
    "        if (row[0] == ''):\n",
    "            continue\n",
    "        writer.writerow((row[0], row[2], row[3], row[4], row[5], row[6], row[7], row[8], row[12], row[13], row[16]))\n"
   ]
  },
  {
   "cell_type": "code",
   "execution_count": 96,
   "metadata": {
    "editable": true
   },
   "outputs": [
    {
     "name": "stdout",
     "output_type": "stream",
     "text": [
      "6821\n"
     ]
    }
   ],
   "source": [
    "with open('event_datafile_new.csv', 'r', encoding = 'utf8') as f:\n",
    "    print(sum(1 for line in f))"
   ]
  },
  {
   "cell_type": "markdown",
   "metadata": {
    "editable": true
   },
   "source": [
    "# Part II. Complete the Apache Cassandra coding portion of your project. \n",
    "\n",
    "## Now you are ready to work with the CSV file titled <font color=red>event_datafile_new.csv</font>, located within the Workspace directory.  The event_datafile_new.csv contains the following columns: \n",
    "- artist \n",
    "- firstName of user\n",
    "- gender of user\n",
    "- item number in session\n",
    "- last name of user\n",
    "- length of the song\n",
    "- level (paid or free song)\n",
    "- location of the user\n",
    "- sessionId\n",
    "- song title\n",
    "- userId\n",
    "\n",
    "The image below is a screenshot of what the denormalized data should appear like in the <font color=red>**event_datafile_new.csv**</font> after the code above is run:<br>\n",
    "\n",
    "<img src=\"images/image_event_datafile_new.jpg\">"
   ]
  },
  {
   "cell_type": "markdown",
   "metadata": {
    "editable": true
   },
   "source": [
    "## Begin writing your Apache Cassandra code in the cells below"
   ]
  },
  {
   "cell_type": "markdown",
   "metadata": {
    "editable": true
   },
   "source": [
    "#### Creating a Cluster"
   ]
  },
  {
   "cell_type": "code",
   "execution_count": 97,
   "metadata": {
    "editable": true
   },
   "outputs": [],
   "source": [
    "from cassandra.cluster import Cluster\n",
    "cluster = Cluster(['127.0.0.1'])\n",
    "session = cluster.connect()"
   ]
  },
  {
   "cell_type": "markdown",
   "metadata": {
    "editable": true
   },
   "source": [
    "#### Create Keyspace"
   ]
  },
  {
   "cell_type": "code",
   "execution_count": 98,
   "metadata": {
    "editable": true
   },
   "outputs": [],
   "source": [
    "try:\n",
    "    session.execute(\"\"\"\n",
    "        CREATE KEYSPACE IF NOT EXISTS sparkify\n",
    "        WITH REPLICATION =\n",
    "            {\n",
    "                'class' : 'SimpleStrategy',\n",
    "                'replication_factor' : 1\n",
    "            }\n",
    "    \"\"\")\n",
    "except Exception as e:\n",
    "    print(e)"
   ]
  },
  {
   "cell_type": "markdown",
   "metadata": {
    "editable": true
   },
   "source": [
    "#### Set Keyspace"
   ]
  },
  {
   "cell_type": "code",
   "execution_count": 99,
   "metadata": {
    "editable": true
   },
   "outputs": [],
   "source": [
    "try:\n",
    "    session.set_keyspace('sparkify')\n",
    "except Exception as e:\n",
    "    print(e)"
   ]
  },
  {
   "cell_type": "markdown",
   "metadata": {
    "editable": true
   },
   "source": [
    "### Now we need to create tables to run the following queries. Remember, with Apache Cassandra you model the database tables on the queries you want to run."
   ]
  },
  {
   "cell_type": "markdown",
   "metadata": {
    "editable": true
   },
   "source": [
    "## Create queries to ask the following three questions of the data\n",
    "\n",
    "### 1. Give me the artist, song title and song's length in the music app history that was heard during  sessionId = 338, and itemInSession  = 4\n",
    "\n",
    "\n",
    "### 2. Give me only the following: name of artist, song (sorted by itemInSession) and user (first and last name) for userid = 10, sessionid = 182\n",
    "    \n",
    "\n",
    "### 3. Give me every user name (first and last) in my music app history who listened to the song 'All Hands Against His Own'\n",
    "\n",
    "\n"
   ]
  },
  {
   "cell_type": "code",
   "execution_count": 100,
   "metadata": {
    "editable": true
   },
   "outputs": [],
   "source": [
    "## CREATING THE TABLES\n",
    "try:\n",
    "    # Q1 - Modelling data after Query 1, using Session_id and Items_in_session (As asked by the where) and User_ID and Song to make the data unique\n",
    "    query = \"CREATE TABLE IF NOT EXISTS PLAY_DATA_Q1 \"\n",
    "    query += '''(\n",
    "        -- SESSION PROPERTIES\n",
    "        SESSION_ID INT,\n",
    "        \n",
    "        -- USER PROPERTIES\n",
    "        USER_ID INT,\n",
    "        FIRST_NAME TEXT,\n",
    "        LAST_NAME TEXT,\n",
    "        GENDER TEXT,\n",
    "        LEVEL TEXT,\n",
    "        LOCATION TEXT,\n",
    "        \n",
    "        -- USER INTERACTION PROPERTIES\n",
    "        ITEM_IN_SESSION INT,\n",
    "        \n",
    "        -- SONG PROPERTIES\n",
    "        SONG TEXT,\n",
    "        ARTIST TEXT,\n",
    "        LENGTH FLOAT,\n",
    "        \n",
    "        -- PRIMARY KEY\n",
    "        PRIMARY KEY (\n",
    "            -- PARTITION KEY\n",
    "            SESSION_ID,\n",
    "            \n",
    "            -- CLUSTERING COLUMNS\n",
    "            ITEM_IN_SESSION,\n",
    "            USER_ID,\n",
    "            SONG\n",
    "        ));\n",
    "    '''\n",
    "    session.execute(query)\n",
    "\n",
    "    # Q2 - Modelling the table after Query 2, using the same combinations as Q1 but primary key chain follows UserID -> SessionID (asked) and Items_in_session (sorting) and song (to make the primary key stronger)\n",
    "    query = \"CREATE TABLE IF NOT EXISTS PLAY_DATA_Q2 \"\n",
    "    query += '''(\n",
    "        -- SESSION PROPERTIES\n",
    "        SESSION_ID INT,\n",
    "        \n",
    "        -- USER PROPERTIES\n",
    "        USER_ID INT,\n",
    "        FIRST_NAME TEXT,\n",
    "        LAST_NAME TEXT,\n",
    "        GENDER TEXT,\n",
    "        LEVEL TEXT,\n",
    "        LOCATION TEXT,\n",
    "        \n",
    "        -- USER INTERACTION PROPERTIES\n",
    "        ITEM_IN_SESSION INT,\n",
    "        \n",
    "        -- SONG PROPERTIES\n",
    "        SONG TEXT,\n",
    "        ARTIST TEXT,\n",
    "        LENGTH FLOAT,\n",
    "        \n",
    "        -- PRIMARY KEY\n",
    "        PRIMARY KEY (\n",
    "            -- PARTITION KEY\n",
    "            USER_ID,\n",
    "            \n",
    "            -- CLUSTERING COLUMNS\n",
    "            SESSION_ID,\n",
    "            ITEM_IN_SESSION,\n",
    "            SONG\n",
    "        ));\n",
    "    '''\n",
    "    \n",
    "    session.execute(query)\n",
    "    \n",
    "    # Q3 - Modelling after Query 3 that asks for SONG (partition key) and USER_ID, SESSION_ID AND ITEM_IN_SESSION Clustering columns to make primary key stronger.\n",
    "    query = \"CREATE TABLE IF NOT EXISTS PLAY_DATA_Q3 \"\n",
    "    query += '''(\n",
    "        -- SESSION PROPERTIES\n",
    "        SESSION_ID INT,\n",
    "        \n",
    "        -- USER PROPERTIES\n",
    "        USER_ID INT,\n",
    "        FIRST_NAME TEXT,\n",
    "        LAST_NAME TEXT,\n",
    "        GENDER TEXT,\n",
    "        LEVEL TEXT,\n",
    "        LOCATION TEXT,\n",
    "        \n",
    "        -- USER INTERACTION PROPERTIES\n",
    "        ITEM_IN_SESSION INT,\n",
    "        \n",
    "        -- SONG PROPERTIES\n",
    "        SONG TEXT,\n",
    "        ARTIST TEXT,\n",
    "        LENGTH FLOAT,\n",
    "        \n",
    "        -- PRIMARY KEY\n",
    "        PRIMARY KEY (\n",
    "            -- PARTITION KEY\n",
    "            SONG,\n",
    "            \n",
    "            -- CLUSTERING COLUMNS\n",
    "            USER_ID,\n",
    "            SESSION_ID,\n",
    "            ITEM_IN_SESSION\n",
    "        ));\n",
    "    '''\n",
    "    \n",
    "    session.execute(query)\n",
    "\n",
    "except Exception as e:\n",
    "    print(e)"
   ]
  },
  {
   "cell_type": "code",
   "execution_count": 101,
   "metadata": {
    "editable": true
   },
   "outputs": [],
   "source": [
    "file = 'event_datafile_new.csv'\n",
    "\n",
    "with open(file, encoding = 'utf8') as f:\n",
    "    csvreader = csv.reader(f)\n",
    "    next(csvreader) \n",
    "    for line in csvreader:\n",
    "\n",
    "        try:\n",
    "            # Q1\n",
    "            query = 'INSERT INTO play_data_q1 (ARTIST, FIRST_NAME, GENDER, ITEM_IN_SESSION, LAST_NAME, LENGTH, LEVEL, LOCATION, SESSION_ID, SONG, USER_ID)'\n",
    "            query += \" VALUES (%s, %s, %s, %s, %s, %s, %s, %s, %s, %s, %s);\"\n",
    "            session.execute(query, (line[0], line[1], line[2], int(line[3]), line[4], float(line[5]), line[6], line[7], int(line[8]), line[9], int(line[10])))\n",
    "\n",
    "            # Q2\n",
    "            query = 'INSERT INTO play_data_q2 (ARTIST, FIRST_NAME, GENDER, ITEM_IN_SESSION, LAST_NAME, LENGTH, LEVEL, LOCATION, SESSION_ID, SONG, USER_ID)'\n",
    "            query += \" VALUES (%s, %s, %s, %s, %s, %s, %s, %s, %s, %s, %s);\"\n",
    "            session.execute(query, (line[0], line[1], line[2], int(line[3]), line[4], float(line[5]), line[6], line[7], int(line[8]), line[9], int(line[10])))\n",
    "\n",
    "            # Q3\n",
    "            query = 'INSERT INTO play_data_q3 (ARTIST, FIRST_NAME, GENDER, ITEM_IN_SESSION, LAST_NAME, LENGTH, LEVEL, LOCATION, SESSION_ID, SONG, USER_ID)'\n",
    "            query += \" VALUES (%s, %s, %s, %s, %s, %s, %s, %s, %s, %s, %s);\"\n",
    "            session.execute(query, (line[0], line[1], line[2], int(line[3]), line[4], float(line[5]), line[6], line[7], int(line[8]), line[9], int(line[10])))\n",
    "            \n",
    "        except Exception as e:\n",
    "            print(e)"
   ]
  },
  {
   "cell_type": "markdown",
   "metadata": {
    "editable": true
   },
   "source": [
    "#### SELECT STATEMENTS"
   ]
  },
  {
   "cell_type": "code",
   "execution_count": 102,
   "metadata": {
    "editable": true
   },
   "outputs": [],
   "source": [
    "def pandas_factory(colnames, rows):\n",
    "    return pd.DataFrame(rows, columns=colnames)\n",
    "session.row_factory = pandas_factory"
   ]
  },
  {
   "cell_type": "code",
   "execution_count": 103,
   "metadata": {
    "editable": true,
    "scrolled": true
   },
   "outputs": [
    {
     "data": {
      "text/html": [
       "<div>\n",
       "<style scoped>\n",
       "    .dataframe tbody tr th:only-of-type {\n",
       "        vertical-align: middle;\n",
       "    }\n",
       "\n",
       "    .dataframe tbody tr th {\n",
       "        vertical-align: top;\n",
       "    }\n",
       "\n",
       "    .dataframe thead th {\n",
       "        text-align: right;\n",
       "    }\n",
       "</style>\n",
       "<table border=\"1\" class=\"dataframe\">\n",
       "  <thead>\n",
       "    <tr style=\"text-align: right;\">\n",
       "      <th></th>\n",
       "      <th>artist</th>\n",
       "      <th>song</th>\n",
       "      <th>length</th>\n",
       "    </tr>\n",
       "  </thead>\n",
       "  <tbody>\n",
       "    <tr>\n",
       "      <th>0</th>\n",
       "      <td>Faithless</td>\n",
       "      <td>Music Matters (Mark Knight Dub)</td>\n",
       "      <td>495.307312</td>\n",
       "    </tr>\n",
       "  </tbody>\n",
       "</table>\n",
       "</div>"
      ],
      "text/plain": [
       "      artist                             song      length\n",
       "0  Faithless  Music Matters (Mark Knight Dub)  495.307312"
      ]
     },
     "execution_count": 103,
     "metadata": {},
     "output_type": "execute_result"
    }
   ],
   "source": [
    "# Q1 Give me the artist, song title and song's length in the music app history that was heard during  sessionId = 338, and itemInSession  = 4\n",
    "try:\n",
    "    rows = session.execute(\"SELECT * FROM play_data_q1 WHERE SESSION_ID = 338 AND ITEM_IN_SESSION = 4\")\n",
    "except Exception as e:\n",
    "    print(e)\n",
    "\n",
    "rows._current_rows[['artist', 'song', 'length']]"
   ]
  },
  {
   "cell_type": "code",
   "execution_count": 104,
   "metadata": {
    "editable": true
   },
   "outputs": [
    {
     "data": {
      "text/html": [
       "<div>\n",
       "<style scoped>\n",
       "    .dataframe tbody tr th:only-of-type {\n",
       "        vertical-align: middle;\n",
       "    }\n",
       "\n",
       "    .dataframe tbody tr th {\n",
       "        vertical-align: top;\n",
       "    }\n",
       "\n",
       "    .dataframe thead th {\n",
       "        text-align: right;\n",
       "    }\n",
       "</style>\n",
       "<table border=\"1\" class=\"dataframe\">\n",
       "  <thead>\n",
       "    <tr style=\"text-align: right;\">\n",
       "      <th></th>\n",
       "      <th>artist</th>\n",
       "      <th>song</th>\n",
       "      <th>item_in_session</th>\n",
       "      <th>first_name</th>\n",
       "      <th>last_name</th>\n",
       "    </tr>\n",
       "  </thead>\n",
       "  <tbody>\n",
       "    <tr>\n",
       "      <th>0</th>\n",
       "      <td>Down To The Bone</td>\n",
       "      <td>Keep On Keepin' On</td>\n",
       "      <td>0</td>\n",
       "      <td>Sylvie</td>\n",
       "      <td>Cruz</td>\n",
       "    </tr>\n",
       "    <tr>\n",
       "      <th>1</th>\n",
       "      <td>Three Drives</td>\n",
       "      <td>Greece 2000</td>\n",
       "      <td>1</td>\n",
       "      <td>Sylvie</td>\n",
       "      <td>Cruz</td>\n",
       "    </tr>\n",
       "    <tr>\n",
       "      <th>2</th>\n",
       "      <td>Sebastien Tellier</td>\n",
       "      <td>Kilometer</td>\n",
       "      <td>2</td>\n",
       "      <td>Sylvie</td>\n",
       "      <td>Cruz</td>\n",
       "    </tr>\n",
       "    <tr>\n",
       "      <th>3</th>\n",
       "      <td>Lonnie Gordon</td>\n",
       "      <td>Catch You Baby (Steve Pitron &amp; Max Sanna Radio...</td>\n",
       "      <td>3</td>\n",
       "      <td>Sylvie</td>\n",
       "      <td>Cruz</td>\n",
       "    </tr>\n",
       "  </tbody>\n",
       "</table>\n",
       "</div>"
      ],
      "text/plain": [
       "              artist                                               song  \\\n",
       "0   Down To The Bone                                 Keep On Keepin' On   \n",
       "1       Three Drives                                        Greece 2000   \n",
       "2  Sebastien Tellier                                          Kilometer   \n",
       "3      Lonnie Gordon  Catch You Baby (Steve Pitron & Max Sanna Radio...   \n",
       "\n",
       "   item_in_session first_name last_name  \n",
       "0                0     Sylvie      Cruz  \n",
       "1                1     Sylvie      Cruz  \n",
       "2                2     Sylvie      Cruz  \n",
       "3                3     Sylvie      Cruz  "
      ]
     },
     "execution_count": 104,
     "metadata": {},
     "output_type": "execute_result"
    }
   ],
   "source": [
    "# Q2 Give me only the following: name of artist, song (sorted by itemInSession) and user (first and last name) for userid = 10, sessionid = 182\n",
    "try:\n",
    "    rows = session.execute(\"SELECT * FROM play_data_q2 WHERE USER_ID = 10 AND SESSION_ID = 182\")\n",
    "except Exception as e:\n",
    "    print(e)\n",
    "\n",
    "rows._current_rows[['artist', 'song', 'item_in_session', 'first_name', 'last_name']]"
   ]
  },
  {
   "cell_type": "code",
   "execution_count": 105,
   "metadata": {
    "editable": true
   },
   "outputs": [
    {
     "data": {
      "text/html": [
       "<div>\n",
       "<style scoped>\n",
       "    .dataframe tbody tr th:only-of-type {\n",
       "        vertical-align: middle;\n",
       "    }\n",
       "\n",
       "    .dataframe tbody tr th {\n",
       "        vertical-align: top;\n",
       "    }\n",
       "\n",
       "    .dataframe thead th {\n",
       "        text-align: right;\n",
       "    }\n",
       "</style>\n",
       "<table border=\"1\" class=\"dataframe\">\n",
       "  <thead>\n",
       "    <tr style=\"text-align: right;\">\n",
       "      <th></th>\n",
       "      <th>first_name</th>\n",
       "      <th>last_name</th>\n",
       "    </tr>\n",
       "  </thead>\n",
       "  <tbody>\n",
       "    <tr>\n",
       "      <th>0</th>\n",
       "      <td>Jacqueline</td>\n",
       "      <td>Lynch</td>\n",
       "    </tr>\n",
       "    <tr>\n",
       "      <th>1</th>\n",
       "      <td>Tegan</td>\n",
       "      <td>Levine</td>\n",
       "    </tr>\n",
       "    <tr>\n",
       "      <th>2</th>\n",
       "      <td>Sara</td>\n",
       "      <td>Johnson</td>\n",
       "    </tr>\n",
       "  </tbody>\n",
       "</table>\n",
       "</div>"
      ],
      "text/plain": [
       "   first_name last_name\n",
       "0  Jacqueline     Lynch\n",
       "1       Tegan    Levine\n",
       "2        Sara   Johnson"
      ]
     },
     "execution_count": 105,
     "metadata": {},
     "output_type": "execute_result"
    }
   ],
   "source": [
    "# Q3 Give me every user name (first and last) in my music app history who listened to the song 'All Hands Against His Own'\n",
    "try:\n",
    "    rows = session.execute(\"SELECT * FROM play_data_q3 WHERE song = 'All Hands Against His Own'\")\n",
    "except Exception as e:\n",
    "    print(e)\n",
    "\n",
    "rows._current_rows[['first_name', 'last_name']]"
   ]
  },
  {
   "cell_type": "markdown",
   "metadata": {
    "editable": true
   },
   "source": [
    "### Drop the tables before closing out the sessions"
   ]
  },
  {
   "cell_type": "code",
   "execution_count": 106,
   "metadata": {
    "editable": true
   },
   "outputs": [],
   "source": [
    "# Dropping Table\n",
    "try:\n",
    "    query = \"DROP TABLE play_data_q1;\"\n",
    "    rows = session.execute(query)\n",
    "    query = \"DROP TABLE play_data_q2;\"\n",
    "    rows = session.execute(query)\n",
    "    query = \"DROP TABLE play_data_q3;\"\n",
    "    rows = session.execute(query)\n",
    "except Exception as e:\n",
    "    print(e)"
   ]
  },
  {
   "cell_type": "markdown",
   "metadata": {
    "editable": true
   },
   "source": [
    "### Close the session and cluster connection¶"
   ]
  },
  {
   "cell_type": "code",
   "execution_count": 107,
   "metadata": {
    "editable": true
   },
   "outputs": [],
   "source": [
    "session.shutdown()\n",
    "cluster.shutdown()"
   ]
  }
 ],
 "metadata": {
  "kernelspec": {
   "display_name": "Python 3",
   "language": "python",
   "name": "python3"
  },
  "language_info": {
   "codemirror_mode": {
    "name": "ipython",
    "version": 3
   },
   "file_extension": ".py",
   "mimetype": "text/x-python",
   "name": "python",
   "nbconvert_exporter": "python",
   "pygments_lexer": "ipython3",
   "version": "3.6.3"
  }
 },
 "nbformat": 4,
 "nbformat_minor": 4
}
